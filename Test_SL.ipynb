{
 "cells": [
  {
   "cell_type": "markdown",
   "metadata": {},
   "source": [
    "<center>\n",
    "    <img src=\"https://cf-courses-data.s3.us.cloud-object-storage.appdomain.cloud/IBMDeveloperSkillsNetwork-DS0105EN-SkillsNetwork/labs/Module2/images/SN_web_lightmode.png\" width=\"300\" alt=\"cognitiveclass.ai logo\">\n",
    "</center>\n"
   ]
  },
  {
   "cell_type": "markdown",
   "metadata": {},
   "source": [
    "#### Add your code below following the instructions given in the course\n"
   ]
  },
  {
   "cell_type": "markdown",
   "metadata": {},
   "source": [
    "### Game"
   ]
  },
  {
   "cell_type": "markdown",
   "metadata": {},
   "source": [
    "#### This is just a little game i created."
   ]
  },
  {
   "cell_type": "markdown",
   "metadata": {},
   "source": [
    "DS languages: python, R, SQL, julia"
   ]
  },
  {
   "cell_type": "markdown",
   "metadata": {},
   "source": [
    "DS libraries: pandas, numpy, xlrd"
   ]
  },
  {
   "cell_type": "markdown",
   "metadata": {},
   "source": [
    "### 🔧 Common Data Science Tools\n",
    "\n",
    "| Category              | Tool/Library         | Description                                    |\n",
    "|-----------------------|----------------------|------------------------------------------------|\n",
    "| Data Manipulation     | **Pandas**           | DataFrames, data cleaning, transformation      |\n",
    "|                      | **NumPy**            | Numerical operations, arrays, matrix algebra   |\n",
    "| Data Visualization    | **Matplotlib**       | Base plotting library for Python               |\n",
    "|                      | **Seaborn**          | Statistical visualization (built on matplotlib)|\n",
    "|                      | **Plotly**           | Interactive plots and dashboards               |\n",
    "| Machine Learning      | **Scikit-learn**     | Traditional ML models and preprocessing        |\n",
    "|                      | **XGBoost / LightGBM** | High-performance gradient boosting            |\n",
    "|                      | **Statsmodels**      | Statistical models (e.g., OLS, GLM)            |\n",
    "| Databases / SQL       | **SQLite3**          | Local SQL database                             |\n",
    "|                      | **SQLAlchemy**       | Database connection toolkit for Python         |\n",
    "|                      | **DuckDB**           | Fast OLAP-style database with Pandas integration |\n",
    "| Big Data / Pipelines  | **Apache Spark (PySpark)** | Distributed data processing                |\n",
    "|                      | **Airflow / Prefect** | Workflow scheduling for ETL tasks             |\n",
    "| BI / Reporting        | **Tableau**          | Business dashboards and data visualization     |\n",
    "|                      | **Power BI**         | Microsoft’s BI tool for interactive reporting  |\n",
    "| Web Scraping / API    | **Requests**         | Simple HTTP requests and API interaction       |\n",
    "|                      | **BeautifulSoup**    | Parsing HTML/XML documents                     |\n",
    "|                      | **Selenium**         | Automate browser for dynamic site scraping     |\n"
   ]
  },
  {
   "cell_type": "markdown",
   "metadata": {},
   "source": [
    "### 🧮 Arithmetic Expressions in Python\n",
    "\n",
    "\n",
    "\n",
    "| Operation        | Syntax       | Example         | Result |\n",
    "|------------------|--------------|------------------|--------|\n",
    "| Addition         | `+`          | `5 + 3`          | `8`    |\n",
    "| Subtraction      | `-`          | `10 - 4`         | `6`    |\n",
    "| Multiplication   | `*`          | `7 * 2`          | `14`   |\n",
    "| Division         | `/`          | `8 / 2`          | `4.0`  |\n",
    "| Floor Division   | `//`         | `9 // 2`         | `4`    |\n",
    "| Modulus (remainder) | `%`      | `10 % 3`         | `1`    |\n",
    "| Exponentiation   | `**`         | `2 ** 3`         | `8`    |\n",
    "\n",
    "\n"
   ]
  },
  {
   "cell_type": "code",
   "execution_count": 2,
   "metadata": {},
   "outputs": [
    {
     "data": {
      "text/plain": [
       "11"
      ]
     },
     "execution_count": 2,
     "metadata": {},
     "output_type": "execute_result"
    }
   ],
   "source": [
    "2 * 3 + 5"
   ]
  },
  {
   "cell_type": "code",
   "execution_count": 3,
   "metadata": {},
   "outputs": [
    {
     "name": "stdin",
     "output_type": "stream",
     "text": [
      "Enter the number of minutes:  2\n"
     ]
    },
    {
     "name": "stdout",
     "output_type": "stream",
     "text": [
      "2 minutes is equal to 0.03 hours.\n"
     ]
    }
   ],
   "source": [
    "minutes = int(input(\"Enter the number of minutes: \"))\n",
    "hours = minutes / 60\n",
    "print(f\"{minutes} minutes is equal to {hours:.2f} hours.\")"
   ]
  },
  {
   "cell_type": "markdown",
   "metadata": {},
   "source": [
    "Objective: basic intro to python"
   ]
  },
  {
   "cell_type": "markdown",
   "metadata": {},
   "source": [
    "Author's name: Skylar Lu"
   ]
  },
  {
   "cell_type": "code",
   "execution_count": 1,
   "metadata": {},
   "outputs": [
    {
     "name": "stdout",
     "output_type": "stream",
     "text": [
      "welcome the game of guessing numbers\n",
      "i already have a number between 1 and 100, can you guess it?\n"
     ]
    },
    {
     "name": "stdin",
     "output_type": "stream",
     "text": [
      "please input your guessing:  3\n"
     ]
    },
    {
     "name": "stdout",
     "output_type": "stream",
     "text": [
      "too small! give another shot 🔽\n"
     ]
    },
    {
     "name": "stdin",
     "output_type": "stream",
     "text": [
      "please input your guessing:  10\n"
     ]
    },
    {
     "name": "stdout",
     "output_type": "stream",
     "text": [
      "too small! give another shot 🔽\n"
     ]
    },
    {
     "name": "stdin",
     "output_type": "stream",
     "text": [
      "please input your guessing:  56\n"
     ]
    },
    {
     "name": "stdout",
     "output_type": "stream",
     "text": [
      "too small! give another shot 🔽\n"
     ]
    },
    {
     "name": "stdin",
     "output_type": "stream",
     "text": [
      "please input your guessing:  98\n"
     ]
    },
    {
     "name": "stdout",
     "output_type": "stream",
     "text": [
      "too big! give another shot 🔼\n"
     ]
    },
    {
     "name": "stdin",
     "output_type": "stream",
     "text": [
      "please input your guessing:  71\n"
     ]
    },
    {
     "name": "stdout",
     "output_type": "stream",
     "text": [
      "too small! give another shot 🔽\n"
     ]
    },
    {
     "name": "stdin",
     "output_type": "stream",
     "text": [
      "please input your guessing:  80\n"
     ]
    },
    {
     "name": "stdout",
     "output_type": "stream",
     "text": [
      "too big! give another shot 🔼\n"
     ]
    },
    {
     "name": "stdin",
     "output_type": "stream",
     "text": [
      "please input your guessing:  75\n"
     ]
    },
    {
     "name": "stdout",
     "output_type": "stream",
     "text": [
      "too big! give another shot 🔼\n"
     ]
    },
    {
     "name": "stdin",
     "output_type": "stream",
     "text": [
      "please input your guessing:  72\n"
     ]
    },
    {
     "name": "stdout",
     "output_type": "stream",
     "text": [
      "🎉congratulations! You guessed 8 times\n"
     ]
    }
   ],
   "source": [
    "import random\n",
    "secret_number = random.randint(1,100)\n",
    "attempts = 0\n",
    "\n",
    "print(\"welcome the game of guessing numbers\")\n",
    "print(\"i already have a number between 1 and 100, can you guess it?\")\n",
    "\n",
    "while True:\n",
    "    try: \n",
    "        guess = int(input(\"please input your guessing: \"))\n",
    "        attempts += 1\n",
    "\n",
    "        if guess < secret_number:\n",
    "            print(\"too small! give another shot 🔽\")\n",
    "        elif guess > secret_number:\n",
    "            print(\"too big! give another shot 🔼\")\n",
    "        else:\n",
    "            print(f\"🎉congratulations! You guessed {attempts} times\")\n",
    "            break\n",
    "    except ValueError:\n",
    "        print(\"please input a valid integer\")"
   ]
  },
  {
   "cell_type": "code",
   "execution_count": null,
   "metadata": {},
   "outputs": [],
   "source": []
  }
 ],
 "metadata": {
  "kernelspec": {
   "display_name": "Python 3 (ipykernel)",
   "language": "python",
   "name": "python3"
  },
  "language_info": {
   "codemirror_mode": {
    "name": "ipython",
    "version": 3
   },
   "file_extension": ".py",
   "mimetype": "text/x-python",
   "name": "python",
   "nbconvert_exporter": "python",
   "pygments_lexer": "ipython3",
   "version": "3.12.8"
  }
 },
 "nbformat": 4,
 "nbformat_minor": 4
}
